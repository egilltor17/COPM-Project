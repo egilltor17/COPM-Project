{
  "nbformat": 4,
  "nbformat_minor": 0,
  "metadata": {
    "language_info": {
      "codemirror_mode": {
        "name": "ipython",
        "version": 3
      },
      "file_extension": ".py",
      "mimetype": "text/x-python",
      "name": "python",
      "nbconvert_exporter": "python",
      "pygments_lexer": "ipython3",
      "version": "3.8.5-final"
    },
    "orig_nbformat": 2,
    "kernelspec": {
      "name": "python3",
      "display_name": "Python 3.8.5 64-bit",
      "metadata": {
        "interpreter": {
          "hash": "d04fddb330a34ef732f1cba10e5f48b21f6eea07c886cdf995b436f2f43760b6"
        }
      }
    },
    "colab": {
      "name": "main.ipynb",
      "provenance": [],
      "toc_visible": true
    },
    "accelerator": "GPU"
  },
  "cells": [
    {
      "cell_type": "code",
      "metadata": {
        "id": "z6wslvfp2CfN"
      },
      "source": [
        "from google.colab import drive\n",
        "drive.mount('/content/drive')\n",
        "%cd /content/drive/MyDrive/Colab\\ Notebooks\n",
        "![ ! -d \"/content/drive/MyDrive/Colab Notebooks/COPM-Project/\" ] && git clone https://github.com/egilltor17/COPM-Project.git\n",
        "%cd /content/drive/MyDrive/Colab\\ Notebooks/COPM-Project/\n",
        "!git checkout MICCAI\n",
        "!pip install -r requirements.txt"
      ],
      "execution_count": null,
      "outputs": []
    },
    {
      "cell_type": "code",
      "metadata": {
        "id": "PzHgOnddHqhF"
      },
      "source": [
        "# !watch nvidia-smi\n",
        "!pip install wandb\n",
        "import wandb\n",
        "wandb.init()"
      ],
      "execution_count": null,
      "outputs": []
    },
    {
      "cell_type": "code",
      "metadata": {
        "id": "d8d0xfjd1j0B"
      },
      "source": [
        "import os\n",
        "import sys\n",
        "sys.path.append(os.path.split(sys.path[0])[0])\n",
        "\n",
        "from time import time\n",
        "import numpy as np\n",
        "import torch\n",
        "import torch.backends.cudnn as cudnn\n",
        "from torch.utils.data import DataLoader\n",
        "from dataset.dataset import Dataset\n",
        "\n",
        "from loss.Dice import DiceLoss\n",
        "from loss.ELDice import ELDiceLoss\n",
        "from loss.WBCE import WCELoss\n",
        "from loss.Jaccard import JaccardLoss\n",
        "from loss.SS import SSLoss\n",
        "from loss.Tversky import TverskyLoss\n",
        "from loss.Hybrid import HybridLoss\n",
        "from loss.BCE import BCELoss\n",
        "\n",
        "from net import net\n",
        "\n",
        "import parameter as para\n",
        "\n",
        "step_list = [0]\n",
        "loss_plot = []\n",
        "\n",
        "# 设置显卡相关\n",
        "os.environ['CUDA_VISIBLE_DEVICES'] = para.gpu\n",
        "cudnn.benchmark = para.cudnn_benchmark\n",
        "\n",
        "# 定义网络\n",
        "net = torch.nn.DataParallel(net).cuda()\n",
        "net.train()\n",
        "\n",
        "# 定义Dateset\n",
        "train_ds = Dataset(para.training_set_path, para.training_set_path)\n",
        "\n",
        "# 定义数据加载\n",
        "# train_dl = DataLoader(dataset=train_ds, batch_size=para.batch_size, shuffle=True, num_workers=para.num_workers, pin_memory=para.pin_memory)\n",
        "train_dl = DataLoader(dataset=train_ds, batch_size=1, shuffle=True, pin_memory=False)\n",
        "print(\"Nr of training samples:\", len(train_dl))\n",
        "\n",
        "# 挑选损失函数\n",
        "loss_func_list = [DiceLoss(), ELDiceLoss(), WCELoss(), JaccardLoss(), SSLoss(), TverskyLoss(), HybridLoss(), BCELoss()]\n",
        "loss_func = loss_func_list[5]\n",
        "\n",
        "# 定义优化器\n",
        "opt = torch.optim.Adam(net.parameters(), lr=para.learning_rate)\n",
        "\n",
        "# 学习率衰减\n",
        "lr_decay = torch.optim.lr_scheduler.MultiStepLR(opt, para.learning_rate_decay)\n",
        "\n",
        "# 深度监督衰减系数\n",
        "alpha = para.alpha"
      ],
      "execution_count": null,
      "outputs": []
    },
    {
      "cell_type": "code",
      "metadata": {
        "id": "o5qPk33jlWmj"
      },
      "source": [
        "# 训练网络\n",
        "print(\"Training epochs:\", para.Epoch)\n",
        "start = time()\n",
        "for epoch in range(para.Epoch+1):\n",
        "    mean_loss = []\n",
        "    for step, (ct, seg) in enumerate(train_dl):\n",
        "        ct = ct.cuda()\n",
        "        seg = seg.cuda()\n",
        "\n",
        "        opt.zero_grad()\n",
        "        outputs = net(ct)\n",
        "    \n",
        "        loss1 = loss_func(outputs[0], seg)\n",
        "        loss2 = loss_func(outputs[1], seg)\n",
        "        loss3 = loss_func(outputs[2], seg)\n",
        "        loss4 = loss_func(outputs[3], seg)\n",
        "        loss = (loss1 + loss2 + loss3) * alpha + loss4\n",
        "        mean_loss.append(loss4.item())\n",
        "\n",
        "        # opt.zero_grad()\n",
        "        loss.backward()\n",
        "        opt.step()\n",
        "\n",
        "        if step % 5 is 0:\n",
        "            step_list.append(step_list[-1] + 1)\n",
        "            loss_plot.append(loss4.item())\n",
        "\n",
        "            print('epoch:{}, step:{}, loss1:{:.3f}, loss2:{:.3f}, loss3:{:.3f}, loss4:{:.3f}, time:{:.3f} min'\n",
        "                  .format(epoch, step, loss1.item(), loss2.item(), loss3.item(), loss4.item(), (time() - start) / 60))\n",
        "            \n",
        "        \n",
        "        # ct = ct.detach()\n",
        "        # seg = seg.detach()\n",
        "\n",
        "\n",
        "    # 保存模型\n",
        "    if epoch % 50 is 0 and epoch is not 0:\n",
        "        # 网络模型的命名方式为：epoch轮数+当前minibatch的loss+本轮epoch的平均loss\n",
        "        torch.save(net.state_dict(), para.module_path + 'net{}-{:.3f}-{:.3f}.pth'.format(epoch, loss, sum(mean_loss) / len(mean_loss)))\n",
        "\n",
        "    # 对深度监督系数进行衰减\n",
        "    if epoch % 40 is 0 and epoch is not 0:\n",
        "        alpha *= 0.8\n",
        "\n",
        "    lr_decay.step()\n",
        "\n",
        "# 深度监督的系数变化\n",
        "  # 1.000\n",
        "  # 0.800\n",
        "  # 0.640\n",
        "  # 0.512\n",
        "  # 0.410\n",
        "  # 0.328\n",
        "  # 0.262\n",
        "  # 0.210\n",
        "  # 0.168\n",
        "  # 0.134\n",
        "  # 0.107\n",
        "  # 0.086\n",
        "  # 0.069\n",
        "  # 0.055\n",
        "  # 0.044\n",
        "  # 0.035\n",
        "  # 0.028\n",
        "  # 0.023\n",
        "  # 0.018\n",
        "  # 0.014\n",
        "  # 0.012\n",
        "  # 0.009\n",
        "  # 0.007\n",
        "  # 0.006\n",
        "  # 0.005\n",
        "  # 0.004\n",
        "  # 0.003\n",
        "  # 0.002\n",
        "  # 0.002\n",
        "  # 0.002\n",
        "  # 0.001\n",
        "  # 0.001\n",
        "  # 0.001\n",
        "  # 0.001\n",
        "  # 0.001\n",
        "  # 0.000\n",
        "  # 0.000"
      ],
      "execution_count": null,
      "outputs": []
    },
    {
      "cell_type": "code",
      "metadata": {
        "id": "xXi4nsQyqs8I"
      },
      "source": [
        "import matplotlib.pyplot as plt\n",
        "\n",
        "plt.plot(loss_plot)\n",
        "plt.show()"
      ],
      "execution_count": null,
      "outputs": []
    },
    {
      "cell_type": "code",
      "metadata": {
        "id": "onuvB517F8Sj"
      },
      "source": [
        "!pwd\n",
        "!git status\n",
        "!echo -e \"[user]\\n\\tname = egilltor17\\n\\temail = egilltor17@ru.is\" > ~/.gitconfig\n",
        "!git add .\n",
        "!git commit -m \"Changes from Google Colab\"\n",
        "#!git pull origin MICCAI\n",
        "!git push origin MICCAI"
      ],
      "execution_count": null,
      "outputs": []
    }
  ]
}