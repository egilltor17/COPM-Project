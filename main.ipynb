{
  "nbformat": 4,
  "nbformat_minor": 0,
  "metadata": {
    "language_info": {
      "codemirror_mode": {
        "name": "ipython",
        "version": 3
      },
      "file_extension": ".py",
      "mimetype": "text/x-python",
      "name": "python",
      "nbconvert_exporter": "python",
      "pygments_lexer": "ipython3",
      "version": "3.8.5-final"
    },
    "orig_nbformat": 2,
    "kernelspec": {
      "name": "python3",
      "display_name": "Python 3.8.5 64-bit",
      "metadata": {
        "interpreter": {
          "hash": "d04fddb330a34ef732f1cba10e5f48b21f6eea07c886cdf995b436f2f43760b6"
        }
      }
    },
    "colab": {
      "name": "main.ipynb",
      "provenance": []
    },
    "accelerator": "GPU"
  },
  "cells": [
    {
      "cell_type": "code",
      "metadata": {
        "colab": {
          "base_uri": "https://localhost:8080/",
          "height": 964
        },
        "id": "z6wslvfp2CfN",
        "outputId": "13768903-8428-4f61-b9cd-7597c467fc0d"
      },
      "source": [
        "from google.colab import drive\n",
        "drive.mount('/content/drive')\n",
        "\n",
        "%cd /content/drive/MyDrive/Colab\\ Notebooks/"
      ],
      "execution_count": 29,
      "outputs": [
        {
          "output_type": "stream",
          "text": [
            "ERROR:root:Internal Python error in the inspect module.\n",
            "Below is the traceback from this internal error.\n",
            "\n"
          ],
          "name": "stderr"
        },
        {
          "output_type": "stream",
          "text": [
            "Drive already mounted at /content/drive; to attempt to forcibly remount, call drive.mount(\"/content/drive\", force_remount=True).\n",
            "Traceback (most recent call last):\n",
            "  File \"/usr/local/lib/python3.6/dist-packages/IPython/core/interactiveshell.py\", line 2882, in run_code\n",
            "    exec(code_obj, self.user_global_ns, self.user_ns)\n",
            "  File \"<ipython-input-29-7b67e181fd56>\", line 4, in <module>\n",
            "    get_ipython().magic('cd /content/drive/MyDrive/Colab\\\\ Notebooks/')\n",
            "  File \"/usr/local/lib/python3.6/dist-packages/IPython/core/interactiveshell.py\", line 2160, in magic\n",
            "    return self.run_line_magic(magic_name, magic_arg_s)\n",
            "  File \"/usr/local/lib/python3.6/dist-packages/IPython/core/interactiveshell.py\", line 2081, in run_line_magic\n",
            "    result = fn(*args,**kwargs)\n",
            "  File \"<decorator-gen-91>\", line 2, in cd\n",
            "  File \"/usr/local/lib/python3.6/dist-packages/IPython/core/magic.py\", line 188, in <lambda>\n",
            "    call = lambda f, *a, **k: f(*a, **k)\n",
            "  File \"/usr/local/lib/python3.6/dist-packages/IPython/core/magics/osm.py\", line 288, in cd\n",
            "    oldcwd = py3compat.getcwd()\n",
            "FileNotFoundError: [Errno 2] No such file or directory\n",
            "\n",
            "During handling of the above exception, another exception occurred:\n",
            "\n",
            "Traceback (most recent call last):\n",
            "  File \"/usr/local/lib/python3.6/dist-packages/IPython/core/interactiveshell.py\", line 1823, in showtraceback\n",
            "    stb = value._render_traceback_()\n",
            "AttributeError: 'FileNotFoundError' object has no attribute '_render_traceback_'\n",
            "\n",
            "During handling of the above exception, another exception occurred:\n",
            "\n",
            "Traceback (most recent call last):\n",
            "  File \"/usr/local/lib/python3.6/dist-packages/IPython/core/ultratb.py\", line 1132, in get_records\n",
            "    return _fixed_getinnerframes(etb, number_of_lines_of_context, tb_offset)\n",
            "  File \"/usr/local/lib/python3.6/dist-packages/IPython/core/ultratb.py\", line 313, in wrapped\n",
            "    return f(*args, **kwargs)\n",
            "  File \"/usr/local/lib/python3.6/dist-packages/IPython/core/ultratb.py\", line 358, in _fixed_getinnerframes\n",
            "    records = fix_frame_records_filenames(inspect.getinnerframes(etb, context))\n",
            "  File \"/usr/lib/python3.6/inspect.py\", line 1490, in getinnerframes\n",
            "    frameinfo = (tb.tb_frame,) + getframeinfo(tb, context)\n",
            "  File \"/usr/lib/python3.6/inspect.py\", line 1448, in getframeinfo\n",
            "    filename = getsourcefile(frame) or getfile(frame)\n",
            "  File \"/usr/lib/python3.6/inspect.py\", line 696, in getsourcefile\n",
            "    if getattr(getmodule(object, filename), '__loader__', None) is not None:\n",
            "  File \"/usr/lib/python3.6/inspect.py\", line 725, in getmodule\n",
            "    file = getabsfile(object, _filename)\n",
            "  File \"/usr/lib/python3.6/inspect.py\", line 709, in getabsfile\n",
            "    return os.path.normcase(os.path.abspath(_filename))\n",
            "  File \"/usr/lib/python3.6/posixpath.py\", line 383, in abspath\n",
            "    cwd = os.getcwd()\n",
            "FileNotFoundError: [Errno 2] No such file or directory\n"
          ],
          "name": "stdout"
        },
        {
          "output_type": "error",
          "ename": "FileNotFoundError",
          "evalue": "ignored",
          "traceback": [
            "\u001b[0;31m---------------------------------------------------------------------------\u001b[0m"
          ]
        }
      ]
    },
    {
      "cell_type": "code",
      "metadata": {
        "colab": {
          "base_uri": "https://localhost:8080/",
          "height": 982
        },
        "id": "UMa0QPhU5wD4",
        "outputId": "070904d2-ef48-4515-9b97-5b92fb832ea9"
      },
      "source": [
        "!pwd\n",
        "%cd /content/drive/MyDrive/Colab\\ Notebooks/\n",
        "![ ! -d \"/content/drive/MyDrive/Colab Notebooks/COPM-Project/\" ] && git clone https://github.com/egilltor17/COPM-Project.git\n",
        "%cd /content/drive/MyDrive/Colab\\ Notebooks/COPM-Project/\n",
        "!git checkout MICCAI"
      ],
      "execution_count": 26,
      "outputs": [
        {
          "output_type": "stream",
          "text": [
            "shell-init: error retrieving current directory: getcwd: cannot access parent directories: No such file or directory\n",
            "pwd: error retrieving current directory: getcwd: cannot access parent directories: No such file or directory\n"
          ],
          "name": "stdout"
        },
        {
          "output_type": "stream",
          "text": [
            "ERROR:root:Internal Python error in the inspect module.\n",
            "Below is the traceback from this internal error.\n",
            "\n"
          ],
          "name": "stderr"
        },
        {
          "output_type": "stream",
          "text": [
            "Traceback (most recent call last):\n",
            "  File \"/usr/local/lib/python3.6/dist-packages/IPython/core/interactiveshell.py\", line 2882, in run_code\n",
            "    exec(code_obj, self.user_global_ns, self.user_ns)\n",
            "  File \"<ipython-input-26-2cbf7494418f>\", line 2, in <module>\n",
            "    get_ipython().magic('cd /content/drive/MyDrive/Colab\\\\ Notebooks/')\n",
            "  File \"/usr/local/lib/python3.6/dist-packages/IPython/core/interactiveshell.py\", line 2160, in magic\n",
            "    return self.run_line_magic(magic_name, magic_arg_s)\n",
            "  File \"/usr/local/lib/python3.6/dist-packages/IPython/core/interactiveshell.py\", line 2081, in run_line_magic\n",
            "    result = fn(*args,**kwargs)\n",
            "  File \"<decorator-gen-91>\", line 2, in cd\n",
            "  File \"/usr/local/lib/python3.6/dist-packages/IPython/core/magic.py\", line 188, in <lambda>\n",
            "    call = lambda f, *a, **k: f(*a, **k)\n",
            "  File \"/usr/local/lib/python3.6/dist-packages/IPython/core/magics/osm.py\", line 288, in cd\n",
            "    oldcwd = py3compat.getcwd()\n",
            "FileNotFoundError: [Errno 2] No such file or directory\n",
            "\n",
            "During handling of the above exception, another exception occurred:\n",
            "\n",
            "Traceback (most recent call last):\n",
            "  File \"/usr/local/lib/python3.6/dist-packages/IPython/core/interactiveshell.py\", line 1823, in showtraceback\n",
            "    stb = value._render_traceback_()\n",
            "AttributeError: 'FileNotFoundError' object has no attribute '_render_traceback_'\n",
            "\n",
            "During handling of the above exception, another exception occurred:\n",
            "\n",
            "Traceback (most recent call last):\n",
            "  File \"/usr/local/lib/python3.6/dist-packages/IPython/core/ultratb.py\", line 1132, in get_records\n",
            "    return _fixed_getinnerframes(etb, number_of_lines_of_context, tb_offset)\n",
            "  File \"/usr/local/lib/python3.6/dist-packages/IPython/core/ultratb.py\", line 313, in wrapped\n",
            "    return f(*args, **kwargs)\n",
            "  File \"/usr/local/lib/python3.6/dist-packages/IPython/core/ultratb.py\", line 358, in _fixed_getinnerframes\n",
            "    records = fix_frame_records_filenames(inspect.getinnerframes(etb, context))\n",
            "  File \"/usr/lib/python3.6/inspect.py\", line 1490, in getinnerframes\n",
            "    frameinfo = (tb.tb_frame,) + getframeinfo(tb, context)\n",
            "  File \"/usr/lib/python3.6/inspect.py\", line 1448, in getframeinfo\n",
            "    filename = getsourcefile(frame) or getfile(frame)\n",
            "  File \"/usr/lib/python3.6/inspect.py\", line 696, in getsourcefile\n",
            "    if getattr(getmodule(object, filename), '__loader__', None) is not None:\n",
            "  File \"/usr/lib/python3.6/inspect.py\", line 725, in getmodule\n",
            "    file = getabsfile(object, _filename)\n",
            "  File \"/usr/lib/python3.6/inspect.py\", line 709, in getabsfile\n",
            "    return os.path.normcase(os.path.abspath(_filename))\n",
            "  File \"/usr/lib/python3.6/posixpath.py\", line 383, in abspath\n",
            "    cwd = os.getcwd()\n",
            "FileNotFoundError: [Errno 2] No such file or directory\n"
          ],
          "name": "stdout"
        },
        {
          "output_type": "error",
          "ename": "FileNotFoundError",
          "evalue": "ignored",
          "traceback": [
            "\u001b[0;31m---------------------------------------------------------------------------\u001b[0m"
          ]
        }
      ]
    },
    {
      "cell_type": "code",
      "metadata": {
        "colab": {
          "base_uri": "https://localhost:8080/",
          "height": 714
        },
        "id": "d8d0xfjd1j0B",
        "outputId": "4f16d7ae-d112-4fca-b427-ccdc0f68aa14"
      },
      "source": [
        "\n",
        "import os\n",
        "from time import time\n",
        "\n",
        "import numpy as np\n",
        "\n",
        "import torch\n",
        "import torch.backends.cudnn as cudnn\n",
        "from torch.utils.data import DataLoader\n",
        "\n",
        "!pip install Visdom\n",
        "from visdom import Visdom\n",
        "\n",
        "from dataset.dataset import Dataset\n",
        "\n",
        "from loss.Dice import DiceLoss\n",
        "from loss.ELDice import ELDiceLoss\n",
        "from loss.WBCE import WCELoss\n",
        "from loss.Jaccard import JaccardLoss\n",
        "from loss.SS import SSLoss\n",
        "from loss.Tversky import TverskyLoss\n",
        "from loss.Hybrid import HybridLoss\n",
        "from loss.BCE import BCELoss\n",
        "\n",
        "from net.ResUNet import net\n",
        "\n",
        "import parameter as para\n",
        "\n",
        "# 设置visdom\n",
        "viz = Visdom(port=666)\n",
        "step_list = [0]\n",
        "win = viz.line(X=np.array([0]), Y=np.array([1.0]), opts=dict(title='loss'))\n",
        "\n",
        "# 设置显卡相关\n",
        "os.environ['CUDA_VISIBLE_DEVICES'] = para.gpu\n",
        "cudnn.benchmark = para.cudnn_benchmark\n",
        "\n",
        "# 定义网络\n",
        "net = torch.nn.DataParallel(net).cuda()\n",
        "net.train()\n",
        "\n",
        "# 定义Dateset\n",
        "train_ds = Dataset(os.path.join(para.training_set_path, 'ct'), os.path.join(para.training_set_path, 'seg'))\n",
        "\n",
        "# 定义数据加载\n",
        "train_dl = DataLoader(train_ds, para.batch_size, True, num_workers=para.num_workers, pin_memory=para.pin_memory)\n",
        "\n",
        "# 挑选损失函数\n",
        "loss_func_list = [DiceLoss(), ELDiceLoss(), WCELoss(), JaccardLoss(), SSLoss(), TverskyLoss(), HybridLoss(), BCELoss()]\n",
        "loss_func = loss_func_list[5]\n",
        "\n",
        "# 定义优化器\n",
        "opt = torch.optim.Adam(net.parameters(), lr=para.learning_rate)\n",
        "\n",
        "# 学习率衰减\n",
        "lr_decay = torch.optim.lr_scheduler.MultiStepLR(opt, para.learning_rate_decay)\n",
        "\n",
        "# 深度监督衰减系数\n",
        "alpha = para.alpha\n",
        "\n",
        "# 训练网络\n",
        "start = time()\n",
        "for epoch in range(para.Epoch):\n",
        "\n",
        "    lr_decay.step()\n",
        "\n",
        "    mean_loss = []\n",
        "\n",
        "    for step, (ct, seg) in enumerate(train_dl):\n",
        "\n",
        "        ct = ct.cuda()\n",
        "        seg = seg.cuda()\n",
        "\n",
        "        outputs = net(ct)\n",
        "\n",
        "        loss1 = loss_func(outputs[0], seg)\n",
        "        loss2 = loss_func(outputs[1], seg)\n",
        "        loss3 = loss_func(outputs[2], seg)\n",
        "        loss4 = loss_func(outputs[3], seg)\n",
        "\n",
        "        loss = (loss1 + loss2 + loss3) * alpha + loss4\n",
        "\n",
        "        mean_loss.append(loss4.item())\n",
        "\n",
        "        opt.zero_grad()\n",
        "        loss.backward()\n",
        "        opt.step()\n",
        "\n",
        "        if step % 5 is 0:\n",
        "            \n",
        "            step_list.append(step_list[-1] + 1)\n",
        "            viz.line(X=np.array([step_list[-1]]), Y=np.array([loss4.item()]), win=win, update='append')\n",
        "            \n",
        "            print('epoch:{}, step:{}, loss1:{:.3f}, loss2:{:.3f}, loss3:{:.3f}, loss4:{:.3f}, time:{:.3f} min'\n",
        "                  .format(epoch, step, loss1.item(), loss2.item(), loss3.item(), loss4.item(), (time() - start) / 60))\n",
        "\n",
        "    mean_loss = sum(mean_loss) / len(mean_loss)\n",
        "\n",
        "    # 保存模型\n",
        "    if epoch % 50 is 0 and epoch is not 0:\n",
        "\n",
        "        # 网络模型的命名方式为：epoch轮数+当前minibatch的loss+本轮epoch的平均loss\n",
        "        torch.save(net.state_dict(), './module/net{}-{:.3f}-{:.3f}.pth'.format(epoch, loss, mean_loss))\n",
        "\n",
        "    # 对深度监督系数进行衰减\n",
        "    if epoch % 40 is 0 and epoch is not 0:\n",
        "        alpha *= 0.8\n",
        "\n",
        "# 深度监督的系数变化\n",
        "# 1.000\n",
        "# 0.800\n",
        "# 0.640\n",
        "# 0.512\n",
        "# 0.410\n",
        "# 0.328\n",
        "# 0.262\n",
        "# 0.210\n",
        "# 0.168\n",
        "# 0.134\n",
        "# 0.107\n",
        "# 0.086\n",
        "# 0.069\n",
        "# 0.055\n",
        "# 0.044\n",
        "# 0.035\n",
        "# 0.028\n",
        "# 0.023\n",
        "# 0.018\n",
        "# 0.014\n",
        "# 0.012\n",
        "# 0.009\n",
        "# 0.007\n",
        "# 0.006\n",
        "# 0.005\n",
        "# 0.004\n",
        "# 0.003\n",
        "# 0.002\n",
        "# 0.002\n",
        "# 0.002\n",
        "# 0.001\n",
        "# 0.001\n",
        "# 0.001\n",
        "# 0.001\n",
        "# 0.001\n",
        "# 0.000\n",
        "# 0.000\n"
      ],
      "execution_count": 20,
      "outputs": [
        {
          "output_type": "stream",
          "text": [
            "/content/drive/MyDrive/Colab Notebooks/COPM-Project\n",
            "Requirement already satisfied: Visdom in /usr/local/lib/python3.6/dist-packages (0.1.8.9)\n",
            "Requirement already satisfied: requests in /usr/local/lib/python3.6/dist-packages (from Visdom) (2.23.0)\n",
            "Requirement already satisfied: pyzmq in /usr/local/lib/python3.6/dist-packages (from Visdom) (20.0.0)\n",
            "Requirement already satisfied: websocket-client in /usr/local/lib/python3.6/dist-packages (from Visdom) (0.57.0)\n",
            "Requirement already satisfied: pillow in /usr/local/lib/python3.6/dist-packages (from Visdom) (7.0.0)\n",
            "Requirement already satisfied: six in /usr/local/lib/python3.6/dist-packages (from Visdom) (1.15.0)\n",
            "Requirement already satisfied: scipy in /usr/local/lib/python3.6/dist-packages (from Visdom) (1.4.1)\n",
            "Requirement already satisfied: jsonpatch in /usr/local/lib/python3.6/dist-packages (from Visdom) (1.28)\n",
            "Requirement already satisfied: tornado in /usr/local/lib/python3.6/dist-packages (from Visdom) (5.1.1)\n",
            "Requirement already satisfied: numpy>=1.8 in /usr/local/lib/python3.6/dist-packages (from Visdom) (1.18.5)\n",
            "Requirement already satisfied: torchfile in /usr/local/lib/python3.6/dist-packages (from Visdom) (0.1.0)\n",
            "Requirement already satisfied: idna<3,>=2.5 in /usr/local/lib/python3.6/dist-packages (from requests->Visdom) (2.10)\n",
            "Requirement already satisfied: certifi>=2017.4.17 in /usr/local/lib/python3.6/dist-packages (from requests->Visdom) (2020.11.8)\n",
            "Requirement already satisfied: chardet<4,>=3.0.2 in /usr/local/lib/python3.6/dist-packages (from requests->Visdom) (3.0.4)\n",
            "Requirement already satisfied: urllib3!=1.25.0,!=1.25.1,<1.26,>=1.21.1 in /usr/local/lib/python3.6/dist-packages (from requests->Visdom) (1.24.3)\n",
            "Requirement already satisfied: jsonpointer>=1.9 in /usr/local/lib/python3.6/dist-packages (from jsonpatch->Visdom) (2.0)\n"
          ],
          "name": "stdout"
        },
        {
          "output_type": "error",
          "ename": "ModuleNotFoundError",
          "evalue": "ignored",
          "traceback": [
            "\u001b[0;31m---------------------------------------------------------------------------\u001b[0m",
            "\u001b[0;31mModuleNotFoundError\u001b[0m                       Traceback (most recent call last)",
            "\u001b[0;32m<ipython-input-20-d2999fed1235>\u001b[0m in \u001b[0;36m<module>\u001b[0;34m()\u001b[0m\n\u001b[1;32m     13\u001b[0m \u001b[0;32mfrom\u001b[0m \u001b[0mvisdom\u001b[0m \u001b[0;32mimport\u001b[0m \u001b[0mVisdom\u001b[0m\u001b[0;34m\u001b[0m\u001b[0;34m\u001b[0m\u001b[0m\n\u001b[1;32m     14\u001b[0m \u001b[0;34m\u001b[0m\u001b[0m\n\u001b[0;32m---> 15\u001b[0;31m \u001b[0;32mfrom\u001b[0m \u001b[0mdataset\u001b[0m\u001b[0;34m.\u001b[0m\u001b[0mdataset\u001b[0m \u001b[0;32mimport\u001b[0m \u001b[0mDataset\u001b[0m\u001b[0;34m\u001b[0m\u001b[0;34m\u001b[0m\u001b[0m\n\u001b[0m\u001b[1;32m     16\u001b[0m \u001b[0;34m\u001b[0m\u001b[0m\n\u001b[1;32m     17\u001b[0m \u001b[0;32mfrom\u001b[0m \u001b[0mloss\u001b[0m\u001b[0;34m.\u001b[0m\u001b[0mDice\u001b[0m \u001b[0;32mimport\u001b[0m \u001b[0mDiceLoss\u001b[0m\u001b[0;34m\u001b[0m\u001b[0;34m\u001b[0m\u001b[0m\n",
            "\u001b[0;31mModuleNotFoundError\u001b[0m: No module named 'dataset'",
            "",
            "\u001b[0;31m---------------------------------------------------------------------------\u001b[0;32m\nNOTE: If your import is failing due to a missing package, you can\nmanually install dependencies using either !pip or !apt.\n\nTo view examples of installing some common dependencies, click the\n\"Open Examples\" button below.\n\u001b[0;31m---------------------------------------------------------------------------\u001b[0m\n"
          ]
        }
      ]
    }
  ]
}